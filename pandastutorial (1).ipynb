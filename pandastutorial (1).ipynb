{
  "metadata": {
    "kernelspec": {
      "name": "python",
      "display_name": "Python (Pyodide)",
      "language": "python"
    },
    "language_info": {
      "codemirror_mode": {
        "name": "python",
        "version": 3
      },
      "file_extension": ".py",
      "mimetype": "text/x-python",
      "name": "python",
      "nbconvert_exporter": "python",
      "pygments_lexer": "ipython3",
      "version": "3.8"
    }
  },
  "nbformat_minor": 4,
  "nbformat": 4,
  "cells": [
    {
      "cell_type": "code",
      "source": "import pandas as pd",
      "metadata": {
        "trusted": true
      },
      "outputs": [],
      "execution_count": 106
    },
    {
      "cell_type": "code",
      "source": "dict1 ={'Name':['Priyang','Aadhya','Krisha','Vedant','Parshv',\n                'Mittal','Archana'],\n                'Marks':[98,89,99,87,90,83,99],\n                'Gender':['Male','Female','Female','Male','Male',\n                         'Female','Female']\n               }\ndf1=pd.DataFrame(dict1)\ndf1",
      "metadata": {
        "trusted": true
      },
      "outputs": [
        {
          "execution_count": 107,
          "output_type": "execute_result",
          "data": {
            "text/plain": "      Name  Marks  Gender\n0  Priyang     98    Male\n1   Aadhya     89  Female\n2   Krisha     99  Female\n3   Vedant     87    Male\n4   Parshv     90    Male\n5   Mittal     83  Female\n6  Archana     99  Female",
            "text/html": "<div>\n<style scoped>\n    .dataframe tbody tr th:only-of-type {\n        vertical-align: middle;\n    }\n\n    .dataframe tbody tr th {\n        vertical-align: top;\n    }\n\n    .dataframe thead th {\n        text-align: right;\n    }\n</style>\n<table border=\"1\" class=\"dataframe\">\n  <thead>\n    <tr style=\"text-align: right;\">\n      <th></th>\n      <th>Name</th>\n      <th>Marks</th>\n      <th>Gender</th>\n    </tr>\n  </thead>\n  <tbody>\n    <tr>\n      <th>0</th>\n      <td>Priyang</td>\n      <td>98</td>\n      <td>Male</td>\n    </tr>\n    <tr>\n      <th>1</th>\n      <td>Aadhya</td>\n      <td>89</td>\n      <td>Female</td>\n    </tr>\n    <tr>\n      <th>2</th>\n      <td>Krisha</td>\n      <td>99</td>\n      <td>Female</td>\n    </tr>\n    <tr>\n      <th>3</th>\n      <td>Vedant</td>\n      <td>87</td>\n      <td>Male</td>\n    </tr>\n    <tr>\n      <th>4</th>\n      <td>Parshv</td>\n      <td>90</td>\n      <td>Male</td>\n    </tr>\n    <tr>\n      <th>5</th>\n      <td>Mittal</td>\n      <td>83</td>\n      <td>Female</td>\n    </tr>\n    <tr>\n      <th>6</th>\n      <td>Archana</td>\n      <td>99</td>\n      <td>Female</td>\n    </tr>\n  </tbody>\n</table>\n</div>"
          },
          "metadata": {}
        }
      ],
      "execution_count": 107
    },
    {
      "cell_type": "markdown",
      "source": "### Display top 3 rows of the dataset",
      "metadata": {}
    },
    {
      "cell_type": "code",
      "source": "df1.head(3)",
      "metadata": {
        "trusted": true
      },
      "outputs": [
        {
          "execution_count": 108,
          "output_type": "execute_result",
          "data": {
            "text/plain": "      Name  Marks  Gender\n0  Priyang     98    Male\n1   Aadhya     89  Female\n2   Krisha     99  Female",
            "text/html": "<div>\n<style scoped>\n    .dataframe tbody tr th:only-of-type {\n        vertical-align: middle;\n    }\n\n    .dataframe tbody tr th {\n        vertical-align: top;\n    }\n\n    .dataframe thead th {\n        text-align: right;\n    }\n</style>\n<table border=\"1\" class=\"dataframe\">\n  <thead>\n    <tr style=\"text-align: right;\">\n      <th></th>\n      <th>Name</th>\n      <th>Marks</th>\n      <th>Gender</th>\n    </tr>\n  </thead>\n  <tbody>\n    <tr>\n      <th>0</th>\n      <td>Priyang</td>\n      <td>98</td>\n      <td>Male</td>\n    </tr>\n    <tr>\n      <th>1</th>\n      <td>Aadhya</td>\n      <td>89</td>\n      <td>Female</td>\n    </tr>\n    <tr>\n      <th>2</th>\n      <td>Krisha</td>\n      <td>99</td>\n      <td>Female</td>\n    </tr>\n  </tbody>\n</table>\n</div>"
          },
          "metadata": {}
        }
      ],
      "execution_count": 108
    },
    {
      "cell_type": "markdown",
      "source": "### Check last 3 rows of the dataset",
      "metadata": {}
    },
    {
      "cell_type": "code",
      "source": "df1.tail(3)",
      "metadata": {
        "trusted": true
      },
      "outputs": [
        {
          "execution_count": 109,
          "output_type": "execute_result",
          "data": {
            "text/plain": "      Name  Marks  Gender\n4   Parshv     90    Male\n5   Mittal     83  Female\n6  Archana     99  Female",
            "text/html": "<div>\n<style scoped>\n    .dataframe tbody tr th:only-of-type {\n        vertical-align: middle;\n    }\n\n    .dataframe tbody tr th {\n        vertical-align: top;\n    }\n\n    .dataframe thead th {\n        text-align: right;\n    }\n</style>\n<table border=\"1\" class=\"dataframe\">\n  <thead>\n    <tr style=\"text-align: right;\">\n      <th></th>\n      <th>Name</th>\n      <th>Marks</th>\n      <th>Gender</th>\n    </tr>\n  </thead>\n  <tbody>\n    <tr>\n      <th>4</th>\n      <td>Parshv</td>\n      <td>90</td>\n      <td>Male</td>\n    </tr>\n    <tr>\n      <th>5</th>\n      <td>Mittal</td>\n      <td>83</td>\n      <td>Female</td>\n    </tr>\n    <tr>\n      <th>6</th>\n      <td>Archana</td>\n      <td>99</td>\n      <td>Female</td>\n    </tr>\n  </tbody>\n</table>\n</div>"
          },
          "metadata": {}
        }
      ],
      "execution_count": 109
    },
    {
      "cell_type": "markdown",
      "source": "### Find shape of our dataset i.e no or rows and columns\n",
      "metadata": {}
    },
    {
      "cell_type": "code",
      "source": "df1.shape",
      "metadata": {
        "trusted": true
      },
      "outputs": [
        {
          "execution_count": 110,
          "output_type": "execute_result",
          "data": {
            "text/plain": "(7, 3)"
          },
          "metadata": {}
        }
      ],
      "execution_count": 110
    },
    {
      "cell_type": "code",
      "source": "print('Number of rows', df1.shape[0])\nprint('Number of columns' ,df1.shape[1])",
      "metadata": {
        "trusted": true
      },
      "outputs": [
        {
          "name": "stdout",
          "text": "Number of rows 7\nNumber of columns 3\n",
          "output_type": "stream"
        }
      ],
      "execution_count": 111
    },
    {
      "cell_type": "markdown",
      "source": "### Get info about the dataset such as total no of columns, rows, datatypes of each column and memory rquired",
      "metadata": {}
    },
    {
      "cell_type": "code",
      "source": "df1.info()",
      "metadata": {
        "trusted": true
      },
      "outputs": [
        {
          "name": "stdout",
          "text": "<class 'pandas.core.frame.DataFrame'>\nRangeIndex: 7 entries, 0 to 6\nData columns (total 3 columns):\n #   Column  Non-Null Count  Dtype \n---  ------  --------------  ----- \n 0   Name    7 non-null      object\n 1   Marks   7 non-null      int64 \n 2   Gender  7 non-null      object\ndtypes: int64(1), object(2)\nmemory usage: 184.0+ bytes\n",
          "output_type": "stream"
        }
      ],
      "execution_count": 112
    },
    {
      "cell_type": "markdown",
      "source": "### Check null values in the dataset",
      "metadata": {}
    },
    {
      "cell_type": "code",
      "source": "df1.isnull().sum(axis=0)",
      "metadata": {
        "trusted": true
      },
      "outputs": [
        {
          "execution_count": 113,
          "output_type": "execute_result",
          "data": {
            "text/plain": "Name      0\nMarks     0\nGender    0\ndtype: int64"
          },
          "metadata": {}
        }
      ],
      "execution_count": 113
    },
    {
      "cell_type": "markdown",
      "source": "### Get overall statistics about the dataframe",
      "metadata": {}
    },
    {
      "cell_type": "code",
      "source": "df1.describe(include='all')",
      "metadata": {
        "trusted": true
      },
      "outputs": [
        {
          "execution_count": 114,
          "output_type": "execute_result",
          "data": {
            "text/plain": "           Name      Marks  Gender\ncount         7   7.000000       7\nunique        7        NaN       2\ntop     Priyang        NaN  Female\nfreq          1        NaN       4\nmean        NaN  92.142857     NaN\nstd         NaN   6.491753     NaN\nmin         NaN  83.000000     NaN\n25%         NaN  88.000000     NaN\n50%         NaN  90.000000     NaN\n75%         NaN  98.500000     NaN\nmax         NaN  99.000000     NaN",
            "text/html": "<div>\n<style scoped>\n    .dataframe tbody tr th:only-of-type {\n        vertical-align: middle;\n    }\n\n    .dataframe tbody tr th {\n        vertical-align: top;\n    }\n\n    .dataframe thead th {\n        text-align: right;\n    }\n</style>\n<table border=\"1\" class=\"dataframe\">\n  <thead>\n    <tr style=\"text-align: right;\">\n      <th></th>\n      <th>Name</th>\n      <th>Marks</th>\n      <th>Gender</th>\n    </tr>\n  </thead>\n  <tbody>\n    <tr>\n      <th>count</th>\n      <td>7</td>\n      <td>7.000000</td>\n      <td>7</td>\n    </tr>\n    <tr>\n      <th>unique</th>\n      <td>7</td>\n      <td>NaN</td>\n      <td>2</td>\n    </tr>\n    <tr>\n      <th>top</th>\n      <td>Priyang</td>\n      <td>NaN</td>\n      <td>Female</td>\n    </tr>\n    <tr>\n      <th>freq</th>\n      <td>1</td>\n      <td>NaN</td>\n      <td>4</td>\n    </tr>\n    <tr>\n      <th>mean</th>\n      <td>NaN</td>\n      <td>92.142857</td>\n      <td>NaN</td>\n    </tr>\n    <tr>\n      <th>std</th>\n      <td>NaN</td>\n      <td>6.491753</td>\n      <td>NaN</td>\n    </tr>\n    <tr>\n      <th>min</th>\n      <td>NaN</td>\n      <td>83.000000</td>\n      <td>NaN</td>\n    </tr>\n    <tr>\n      <th>25%</th>\n      <td>NaN</td>\n      <td>88.000000</td>\n      <td>NaN</td>\n    </tr>\n    <tr>\n      <th>50%</th>\n      <td>NaN</td>\n      <td>90.000000</td>\n      <td>NaN</td>\n    </tr>\n    <tr>\n      <th>75%</th>\n      <td>NaN</td>\n      <td>98.500000</td>\n      <td>NaN</td>\n    </tr>\n    <tr>\n      <th>max</th>\n      <td>NaN</td>\n      <td>99.000000</td>\n      <td>NaN</td>\n    </tr>\n  </tbody>\n</table>\n</div>"
          },
          "metadata": {}
        }
      ],
      "execution_count": 114
    },
    {
      "cell_type": "markdown",
      "source": "### Find unique values from the gender column ",
      "metadata": {}
    },
    {
      "cell_type": "code",
      "source": "df1",
      "metadata": {
        "trusted": true
      },
      "outputs": [
        {
          "execution_count": 115,
          "output_type": "execute_result",
          "data": {
            "text/plain": "      Name  Marks  Gender\n0  Priyang     98    Male\n1   Aadhya     89  Female\n2   Krisha     99  Female\n3   Vedant     87    Male\n4   Parshv     90    Male\n5   Mittal     83  Female\n6  Archana     99  Female",
            "text/html": "<div>\n<style scoped>\n    .dataframe tbody tr th:only-of-type {\n        vertical-align: middle;\n    }\n\n    .dataframe tbody tr th {\n        vertical-align: top;\n    }\n\n    .dataframe thead th {\n        text-align: right;\n    }\n</style>\n<table border=\"1\" class=\"dataframe\">\n  <thead>\n    <tr style=\"text-align: right;\">\n      <th></th>\n      <th>Name</th>\n      <th>Marks</th>\n      <th>Gender</th>\n    </tr>\n  </thead>\n  <tbody>\n    <tr>\n      <th>0</th>\n      <td>Priyang</td>\n      <td>98</td>\n      <td>Male</td>\n    </tr>\n    <tr>\n      <th>1</th>\n      <td>Aadhya</td>\n      <td>89</td>\n      <td>Female</td>\n    </tr>\n    <tr>\n      <th>2</th>\n      <td>Krisha</td>\n      <td>99</td>\n      <td>Female</td>\n    </tr>\n    <tr>\n      <th>3</th>\n      <td>Vedant</td>\n      <td>87</td>\n      <td>Male</td>\n    </tr>\n    <tr>\n      <th>4</th>\n      <td>Parshv</td>\n      <td>90</td>\n      <td>Male</td>\n    </tr>\n    <tr>\n      <th>5</th>\n      <td>Mittal</td>\n      <td>83</td>\n      <td>Female</td>\n    </tr>\n    <tr>\n      <th>6</th>\n      <td>Archana</td>\n      <td>99</td>\n      <td>Female</td>\n    </tr>\n  </tbody>\n</table>\n</div>"
          },
          "metadata": {}
        }
      ],
      "execution_count": 115
    },
    {
      "cell_type": "code",
      "source": "df1['Gender'].unique()",
      "metadata": {
        "trusted": true
      },
      "outputs": [
        {
          "execution_count": 116,
          "output_type": "execute_result",
          "data": {
            "text/plain": "array(['Male', 'Female'], dtype=object)"
          },
          "metadata": {}
        }
      ],
      "execution_count": 116
    },
    {
      "cell_type": "markdown",
      "source": "### Find the number of unique values from the gender column",
      "metadata": {}
    },
    {
      "cell_type": "code",
      "source": "df1['Gender'].nunique()",
      "metadata": {
        "trusted": true
      },
      "outputs": [
        {
          "execution_count": 117,
          "output_type": "execute_result",
          "data": {
            "text/plain": "2"
          },
          "metadata": {}
        }
      ],
      "execution_count": 117
    },
    {
      "cell_type": "markdown",
      "source": "### Display count of unique values in gender column",
      "metadata": {}
    },
    {
      "cell_type": "code",
      "source": "df1['Gender'].value_counts()",
      "metadata": {
        "trusted": true
      },
      "outputs": [
        {
          "execution_count": 118,
          "output_type": "execute_result",
          "data": {
            "text/plain": "Female    4\nMale      3\nName: Gender, dtype: int64"
          },
          "metadata": {}
        }
      ],
      "execution_count": 118
    },
    {
      "cell_type": "markdown",
      "source": "### Find total number of students having marks between 90 to 100 (inclusive) using between method",
      "metadata": {}
    },
    {
      "cell_type": "code",
      "source": "df1[df1['Marks']>=90]",
      "metadata": {
        "trusted": true
      },
      "outputs": [
        {
          "execution_count": 119,
          "output_type": "execute_result",
          "data": {
            "text/plain": "      Name  Marks  Gender\n0  Priyang     98    Male\n2   Krisha     99  Female\n4   Parshv     90    Male\n6  Archana     99  Female",
            "text/html": "<div>\n<style scoped>\n    .dataframe tbody tr th:only-of-type {\n        vertical-align: middle;\n    }\n\n    .dataframe tbody tr th {\n        vertical-align: top;\n    }\n\n    .dataframe thead th {\n        text-align: right;\n    }\n</style>\n<table border=\"1\" class=\"dataframe\">\n  <thead>\n    <tr style=\"text-align: right;\">\n      <th></th>\n      <th>Name</th>\n      <th>Marks</th>\n      <th>Gender</th>\n    </tr>\n  </thead>\n  <tbody>\n    <tr>\n      <th>0</th>\n      <td>Priyang</td>\n      <td>98</td>\n      <td>Male</td>\n    </tr>\n    <tr>\n      <th>2</th>\n      <td>Krisha</td>\n      <td>99</td>\n      <td>Female</td>\n    </tr>\n    <tr>\n      <th>4</th>\n      <td>Parshv</td>\n      <td>90</td>\n      <td>Male</td>\n    </tr>\n    <tr>\n      <th>6</th>\n      <td>Archana</td>\n      <td>99</td>\n      <td>Female</td>\n    </tr>\n  </tbody>\n</table>\n</div>"
          },
          "metadata": {}
        }
      ],
      "execution_count": 119
    },
    {
      "cell_type": "code",
      "source": "len(df1[(df1['Marks']>=90) & (df1['Marks']<=100)])",
      "metadata": {
        "trusted": true
      },
      "outputs": [
        {
          "execution_count": 120,
          "output_type": "execute_result",
          "data": {
            "text/plain": "4"
          },
          "metadata": {}
        }
      ],
      "execution_count": 120
    },
    {
      "cell_type": "code",
      "source": "sum(df1['Marks'].between(90,100))",
      "metadata": {
        "trusted": true
      },
      "outputs": [
        {
          "execution_count": 121,
          "output_type": "execute_result",
          "data": {
            "text/plain": "4"
          },
          "metadata": {}
        }
      ],
      "execution_count": 121
    },
    {
      "cell_type": "markdown",
      "source": "## Find average marks",
      "metadata": {}
    },
    {
      "cell_type": "code",
      "source": "df1",
      "metadata": {
        "trusted": true
      },
      "outputs": [
        {
          "execution_count": 122,
          "output_type": "execute_result",
          "data": {
            "text/plain": "      Name  Marks  Gender\n0  Priyang     98    Male\n1   Aadhya     89  Female\n2   Krisha     99  Female\n3   Vedant     87    Male\n4   Parshv     90    Male\n5   Mittal     83  Female\n6  Archana     99  Female",
            "text/html": "<div>\n<style scoped>\n    .dataframe tbody tr th:only-of-type {\n        vertical-align: middle;\n    }\n\n    .dataframe tbody tr th {\n        vertical-align: top;\n    }\n\n    .dataframe thead th {\n        text-align: right;\n    }\n</style>\n<table border=\"1\" class=\"dataframe\">\n  <thead>\n    <tr style=\"text-align: right;\">\n      <th></th>\n      <th>Name</th>\n      <th>Marks</th>\n      <th>Gender</th>\n    </tr>\n  </thead>\n  <tbody>\n    <tr>\n      <th>0</th>\n      <td>Priyang</td>\n      <td>98</td>\n      <td>Male</td>\n    </tr>\n    <tr>\n      <th>1</th>\n      <td>Aadhya</td>\n      <td>89</td>\n      <td>Female</td>\n    </tr>\n    <tr>\n      <th>2</th>\n      <td>Krisha</td>\n      <td>99</td>\n      <td>Female</td>\n    </tr>\n    <tr>\n      <th>3</th>\n      <td>Vedant</td>\n      <td>87</td>\n      <td>Male</td>\n    </tr>\n    <tr>\n      <th>4</th>\n      <td>Parshv</td>\n      <td>90</td>\n      <td>Male</td>\n    </tr>\n    <tr>\n      <th>5</th>\n      <td>Mittal</td>\n      <td>83</td>\n      <td>Female</td>\n    </tr>\n    <tr>\n      <th>6</th>\n      <td>Archana</td>\n      <td>99</td>\n      <td>Female</td>\n    </tr>\n  </tbody>\n</table>\n</div>"
          },
          "metadata": {}
        }
      ],
      "execution_count": 122
    },
    {
      "cell_type": "code",
      "source": "df1['Marks'].mean()",
      "metadata": {
        "trusted": true
      },
      "outputs": [
        {
          "execution_count": 123,
          "output_type": "execute_result",
          "data": {
            "text/plain": "92.14285714285714"
          },
          "metadata": {}
        }
      ],
      "execution_count": 123
    },
    {
      "cell_type": "markdown",
      "source": "## Apply method",
      "metadata": {}
    },
    {
      "cell_type": "code",
      "source": "def marks(x):\n    return x/2",
      "metadata": {
        "trusted": true
      },
      "outputs": [],
      "execution_count": 124
    },
    {
      "cell_type": "code",
      "source": "df1['Half_Marks'] = df1['Marks'].apply(marks)",
      "metadata": {
        "trusted": true
      },
      "outputs": [],
      "execution_count": 125
    },
    {
      "cell_type": "code",
      "source": "df1",
      "metadata": {
        "trusted": true
      },
      "outputs": [
        {
          "execution_count": 126,
          "output_type": "execute_result",
          "data": {
            "text/plain": "      Name  Marks  Gender  Half_Marks\n0  Priyang     98    Male        49.0\n1   Aadhya     89  Female        44.5\n2   Krisha     99  Female        49.5\n3   Vedant     87    Male        43.5\n4   Parshv     90    Male        45.0\n5   Mittal     83  Female        41.5\n6  Archana     99  Female        49.5",
            "text/html": "<div>\n<style scoped>\n    .dataframe tbody tr th:only-of-type {\n        vertical-align: middle;\n    }\n\n    .dataframe tbody tr th {\n        vertical-align: top;\n    }\n\n    .dataframe thead th {\n        text-align: right;\n    }\n</style>\n<table border=\"1\" class=\"dataframe\">\n  <thead>\n    <tr style=\"text-align: right;\">\n      <th></th>\n      <th>Name</th>\n      <th>Marks</th>\n      <th>Gender</th>\n      <th>Half_Marks</th>\n    </tr>\n  </thead>\n  <tbody>\n    <tr>\n      <th>0</th>\n      <td>Priyang</td>\n      <td>98</td>\n      <td>Male</td>\n      <td>49.0</td>\n    </tr>\n    <tr>\n      <th>1</th>\n      <td>Aadhya</td>\n      <td>89</td>\n      <td>Female</td>\n      <td>44.5</td>\n    </tr>\n    <tr>\n      <th>2</th>\n      <td>Krisha</td>\n      <td>99</td>\n      <td>Female</td>\n      <td>49.5</td>\n    </tr>\n    <tr>\n      <th>3</th>\n      <td>Vedant</td>\n      <td>87</td>\n      <td>Male</td>\n      <td>43.5</td>\n    </tr>\n    <tr>\n      <th>4</th>\n      <td>Parshv</td>\n      <td>90</td>\n      <td>Male</td>\n      <td>45.0</td>\n    </tr>\n    <tr>\n      <th>5</th>\n      <td>Mittal</td>\n      <td>83</td>\n      <td>Female</td>\n      <td>41.5</td>\n    </tr>\n    <tr>\n      <th>6</th>\n      <td>Archana</td>\n      <td>99</td>\n      <td>Female</td>\n      <td>49.5</td>\n    </tr>\n  </tbody>\n</table>\n</div>"
          },
          "metadata": {}
        }
      ],
      "execution_count": 126
    },
    {
      "cell_type": "code",
      "source": "df1['Marks'].apply(lambda x:x/2)",
      "metadata": {
        "trusted": true
      },
      "outputs": [
        {
          "execution_count": 127,
          "output_type": "execute_result",
          "data": {
            "text/plain": "0    49.0\n1    44.5\n2    49.5\n3    43.5\n4    45.0\n5    41.5\n6    49.5\nName: Marks, dtype: float64"
          },
          "metadata": {}
        }
      ],
      "execution_count": 127
    },
    {
      "cell_type": "code",
      "source": "df1['Name'].apply(len)",
      "metadata": {
        "trusted": true
      },
      "outputs": [
        {
          "execution_count": 128,
          "output_type": "execute_result",
          "data": {
            "text/plain": "0    7\n1    6\n2    6\n3    6\n4    6\n5    6\n6    7\nName: Name, dtype: int64"
          },
          "metadata": {}
        }
      ],
      "execution_count": 128
    },
    {
      "cell_type": "markdown",
      "source": "## Map function",
      "metadata": {}
    },
    {
      "cell_type": "code",
      "source": "df1",
      "metadata": {
        "trusted": true
      },
      "outputs": [
        {
          "execution_count": 129,
          "output_type": "execute_result",
          "data": {
            "text/plain": "      Name  Marks  Gender  Half_Marks\n0  Priyang     98    Male        49.0\n1   Aadhya     89  Female        44.5\n2   Krisha     99  Female        49.5\n3   Vedant     87    Male        43.5\n4   Parshv     90    Male        45.0\n5   Mittal     83  Female        41.5\n6  Archana     99  Female        49.5",
            "text/html": "<div>\n<style scoped>\n    .dataframe tbody tr th:only-of-type {\n        vertical-align: middle;\n    }\n\n    .dataframe tbody tr th {\n        vertical-align: top;\n    }\n\n    .dataframe thead th {\n        text-align: right;\n    }\n</style>\n<table border=\"1\" class=\"dataframe\">\n  <thead>\n    <tr style=\"text-align: right;\">\n      <th></th>\n      <th>Name</th>\n      <th>Marks</th>\n      <th>Gender</th>\n      <th>Half_Marks</th>\n    </tr>\n  </thead>\n  <tbody>\n    <tr>\n      <th>0</th>\n      <td>Priyang</td>\n      <td>98</td>\n      <td>Male</td>\n      <td>49.0</td>\n    </tr>\n    <tr>\n      <th>1</th>\n      <td>Aadhya</td>\n      <td>89</td>\n      <td>Female</td>\n      <td>44.5</td>\n    </tr>\n    <tr>\n      <th>2</th>\n      <td>Krisha</td>\n      <td>99</td>\n      <td>Female</td>\n      <td>49.5</td>\n    </tr>\n    <tr>\n      <th>3</th>\n      <td>Vedant</td>\n      <td>87</td>\n      <td>Male</td>\n      <td>43.5</td>\n    </tr>\n    <tr>\n      <th>4</th>\n      <td>Parshv</td>\n      <td>90</td>\n      <td>Male</td>\n      <td>45.0</td>\n    </tr>\n    <tr>\n      <th>5</th>\n      <td>Mittal</td>\n      <td>83</td>\n      <td>Female</td>\n      <td>41.5</td>\n    </tr>\n    <tr>\n      <th>6</th>\n      <td>Archana</td>\n      <td>99</td>\n      <td>Female</td>\n      <td>49.5</td>\n    </tr>\n  </tbody>\n</table>\n</div>"
          },
          "metadata": {}
        }
      ],
      "execution_count": 129
    },
    {
      "cell_type": "markdown",
      "source": "## Drop columns",
      "metadata": {}
    },
    {
      "cell_type": "code",
      "source": "df1",
      "metadata": {
        "trusted": true
      },
      "outputs": [
        {
          "execution_count": 130,
          "output_type": "execute_result",
          "data": {
            "text/plain": "      Name  Marks  Gender  Half_Marks\n0  Priyang     98    Male        49.0\n1   Aadhya     89  Female        44.5\n2   Krisha     99  Female        49.5\n3   Vedant     87    Male        43.5\n4   Parshv     90    Male        45.0\n5   Mittal     83  Female        41.5\n6  Archana     99  Female        49.5",
            "text/html": "<div>\n<style scoped>\n    .dataframe tbody tr th:only-of-type {\n        vertical-align: middle;\n    }\n\n    .dataframe tbody tr th {\n        vertical-align: top;\n    }\n\n    .dataframe thead th {\n        text-align: right;\n    }\n</style>\n<table border=\"1\" class=\"dataframe\">\n  <thead>\n    <tr style=\"text-align: right;\">\n      <th></th>\n      <th>Name</th>\n      <th>Marks</th>\n      <th>Gender</th>\n      <th>Half_Marks</th>\n    </tr>\n  </thead>\n  <tbody>\n    <tr>\n      <th>0</th>\n      <td>Priyang</td>\n      <td>98</td>\n      <td>Male</td>\n      <td>49.0</td>\n    </tr>\n    <tr>\n      <th>1</th>\n      <td>Aadhya</td>\n      <td>89</td>\n      <td>Female</td>\n      <td>44.5</td>\n    </tr>\n    <tr>\n      <th>2</th>\n      <td>Krisha</td>\n      <td>99</td>\n      <td>Female</td>\n      <td>49.5</td>\n    </tr>\n    <tr>\n      <th>3</th>\n      <td>Vedant</td>\n      <td>87</td>\n      <td>Male</td>\n      <td>43.5</td>\n    </tr>\n    <tr>\n      <th>4</th>\n      <td>Parshv</td>\n      <td>90</td>\n      <td>Male</td>\n      <td>45.0</td>\n    </tr>\n    <tr>\n      <th>5</th>\n      <td>Mittal</td>\n      <td>83</td>\n      <td>Female</td>\n      <td>41.5</td>\n    </tr>\n    <tr>\n      <th>6</th>\n      <td>Archana</td>\n      <td>99</td>\n      <td>Female</td>\n      <td>49.5</td>\n    </tr>\n  </tbody>\n</table>\n</div>"
          },
          "metadata": {}
        }
      ],
      "execution_count": 130
    },
    {
      "cell_type": "code",
      "source": "df2= df1.drop('Half_Marks', axis=1)",
      "metadata": {
        "trusted": true
      },
      "outputs": [],
      "execution_count": 131
    },
    {
      "cell_type": "code",
      "source": "df2",
      "metadata": {
        "trusted": true
      },
      "outputs": [
        {
          "execution_count": 132,
          "output_type": "execute_result",
          "data": {
            "text/plain": "      Name  Marks  Gender\n0  Priyang     98    Male\n1   Aadhya     89  Female\n2   Krisha     99  Female\n3   Vedant     87    Male\n4   Parshv     90    Male\n5   Mittal     83  Female\n6  Archana     99  Female",
            "text/html": "<div>\n<style scoped>\n    .dataframe tbody tr th:only-of-type {\n        vertical-align: middle;\n    }\n\n    .dataframe tbody tr th {\n        vertical-align: top;\n    }\n\n    .dataframe thead th {\n        text-align: right;\n    }\n</style>\n<table border=\"1\" class=\"dataframe\">\n  <thead>\n    <tr style=\"text-align: right;\">\n      <th></th>\n      <th>Name</th>\n      <th>Marks</th>\n      <th>Gender</th>\n    </tr>\n  </thead>\n  <tbody>\n    <tr>\n      <th>0</th>\n      <td>Priyang</td>\n      <td>98</td>\n      <td>Male</td>\n    </tr>\n    <tr>\n      <th>1</th>\n      <td>Aadhya</td>\n      <td>89</td>\n      <td>Female</td>\n    </tr>\n    <tr>\n      <th>2</th>\n      <td>Krisha</td>\n      <td>99</td>\n      <td>Female</td>\n    </tr>\n    <tr>\n      <th>3</th>\n      <td>Vedant</td>\n      <td>87</td>\n      <td>Male</td>\n    </tr>\n    <tr>\n      <th>4</th>\n      <td>Parshv</td>\n      <td>90</td>\n      <td>Male</td>\n    </tr>\n    <tr>\n      <th>5</th>\n      <td>Mittal</td>\n      <td>83</td>\n      <td>Female</td>\n    </tr>\n    <tr>\n      <th>6</th>\n      <td>Archana</td>\n      <td>99</td>\n      <td>Female</td>\n    </tr>\n  </tbody>\n</table>\n</div>"
          },
          "metadata": {}
        }
      ],
      "execution_count": 132
    },
    {
      "cell_type": "markdown",
      "source": "## Print name of columns",
      "metadata": {}
    },
    {
      "cell_type": "code",
      "source": "df2.columns",
      "metadata": {
        "trusted": true
      },
      "outputs": [
        {
          "execution_count": 133,
          "output_type": "execute_result",
          "data": {
            "text/plain": "Index(['Name', 'Marks', 'Gender'], dtype='object')"
          },
          "metadata": {}
        }
      ],
      "execution_count": 133
    },
    {
      "cell_type": "code",
      "source": "df2.index",
      "metadata": {
        "trusted": true
      },
      "outputs": [
        {
          "execution_count": 134,
          "output_type": "execute_result",
          "data": {
            "text/plain": "RangeIndex(start=0, stop=7, step=1)"
          },
          "metadata": {}
        }
      ],
      "execution_count": 134
    },
    {
      "cell_type": "markdown",
      "source": "## Sort the dataframe as per the marks column",
      "metadata": {}
    },
    {
      "cell_type": "code",
      "source": "df2",
      "metadata": {
        "trusted": true
      },
      "outputs": [
        {
          "execution_count": 135,
          "output_type": "execute_result",
          "data": {
            "text/plain": "      Name  Marks  Gender\n0  Priyang     98    Male\n1   Aadhya     89  Female\n2   Krisha     99  Female\n3   Vedant     87    Male\n4   Parshv     90    Male\n5   Mittal     83  Female\n6  Archana     99  Female",
            "text/html": "<div>\n<style scoped>\n    .dataframe tbody tr th:only-of-type {\n        vertical-align: middle;\n    }\n\n    .dataframe tbody tr th {\n        vertical-align: top;\n    }\n\n    .dataframe thead th {\n        text-align: right;\n    }\n</style>\n<table border=\"1\" class=\"dataframe\">\n  <thead>\n    <tr style=\"text-align: right;\">\n      <th></th>\n      <th>Name</th>\n      <th>Marks</th>\n      <th>Gender</th>\n    </tr>\n  </thead>\n  <tbody>\n    <tr>\n      <th>0</th>\n      <td>Priyang</td>\n      <td>98</td>\n      <td>Male</td>\n    </tr>\n    <tr>\n      <th>1</th>\n      <td>Aadhya</td>\n      <td>89</td>\n      <td>Female</td>\n    </tr>\n    <tr>\n      <th>2</th>\n      <td>Krisha</td>\n      <td>99</td>\n      <td>Female</td>\n    </tr>\n    <tr>\n      <th>3</th>\n      <td>Vedant</td>\n      <td>87</td>\n      <td>Male</td>\n    </tr>\n    <tr>\n      <th>4</th>\n      <td>Parshv</td>\n      <td>90</td>\n      <td>Male</td>\n    </tr>\n    <tr>\n      <th>5</th>\n      <td>Mittal</td>\n      <td>83</td>\n      <td>Female</td>\n    </tr>\n    <tr>\n      <th>6</th>\n      <td>Archana</td>\n      <td>99</td>\n      <td>Female</td>\n    </tr>\n  </tbody>\n</table>\n</div>"
          },
          "metadata": {}
        }
      ],
      "execution_count": 135
    },
    {
      "cell_type": "code",
      "source": "df2.sort_values(by='Marks')",
      "metadata": {
        "trusted": true
      },
      "outputs": [
        {
          "execution_count": 136,
          "output_type": "execute_result",
          "data": {
            "text/plain": "      Name  Marks  Gender\n5   Mittal     83  Female\n3   Vedant     87    Male\n1   Aadhya     89  Female\n4   Parshv     90    Male\n0  Priyang     98    Male\n2   Krisha     99  Female\n6  Archana     99  Female",
            "text/html": "<div>\n<style scoped>\n    .dataframe tbody tr th:only-of-type {\n        vertical-align: middle;\n    }\n\n    .dataframe tbody tr th {\n        vertical-align: top;\n    }\n\n    .dataframe thead th {\n        text-align: right;\n    }\n</style>\n<table border=\"1\" class=\"dataframe\">\n  <thead>\n    <tr style=\"text-align: right;\">\n      <th></th>\n      <th>Name</th>\n      <th>Marks</th>\n      <th>Gender</th>\n    </tr>\n  </thead>\n  <tbody>\n    <tr>\n      <th>5</th>\n      <td>Mittal</td>\n      <td>83</td>\n      <td>Female</td>\n    </tr>\n    <tr>\n      <th>3</th>\n      <td>Vedant</td>\n      <td>87</td>\n      <td>Male</td>\n    </tr>\n    <tr>\n      <th>1</th>\n      <td>Aadhya</td>\n      <td>89</td>\n      <td>Female</td>\n    </tr>\n    <tr>\n      <th>4</th>\n      <td>Parshv</td>\n      <td>90</td>\n      <td>Male</td>\n    </tr>\n    <tr>\n      <th>0</th>\n      <td>Priyang</td>\n      <td>98</td>\n      <td>Male</td>\n    </tr>\n    <tr>\n      <th>2</th>\n      <td>Krisha</td>\n      <td>99</td>\n      <td>Female</td>\n    </tr>\n    <tr>\n      <th>6</th>\n      <td>Archana</td>\n      <td>99</td>\n      <td>Female</td>\n    </tr>\n  </tbody>\n</table>\n</div>"
          },
          "metadata": {}
        }
      ],
      "execution_count": 136
    },
    {
      "cell_type": "code",
      "source": "df2.sort_values(by='Marks', ascending=False)",
      "metadata": {
        "trusted": true
      },
      "outputs": [
        {
          "execution_count": 137,
          "output_type": "execute_result",
          "data": {
            "text/plain": "      Name  Marks  Gender\n2   Krisha     99  Female\n6  Archana     99  Female\n0  Priyang     98    Male\n4   Parshv     90    Male\n1   Aadhya     89  Female\n3   Vedant     87    Male\n5   Mittal     83  Female",
            "text/html": "<div>\n<style scoped>\n    .dataframe tbody tr th:only-of-type {\n        vertical-align: middle;\n    }\n\n    .dataframe tbody tr th {\n        vertical-align: top;\n    }\n\n    .dataframe thead th {\n        text-align: right;\n    }\n</style>\n<table border=\"1\" class=\"dataframe\">\n  <thead>\n    <tr style=\"text-align: right;\">\n      <th></th>\n      <th>Name</th>\n      <th>Marks</th>\n      <th>Gender</th>\n    </tr>\n  </thead>\n  <tbody>\n    <tr>\n      <th>2</th>\n      <td>Krisha</td>\n      <td>99</td>\n      <td>Female</td>\n    </tr>\n    <tr>\n      <th>6</th>\n      <td>Archana</td>\n      <td>99</td>\n      <td>Female</td>\n    </tr>\n    <tr>\n      <th>0</th>\n      <td>Priyang</td>\n      <td>98</td>\n      <td>Male</td>\n    </tr>\n    <tr>\n      <th>4</th>\n      <td>Parshv</td>\n      <td>90</td>\n      <td>Male</td>\n    </tr>\n    <tr>\n      <th>1</th>\n      <td>Aadhya</td>\n      <td>89</td>\n      <td>Female</td>\n    </tr>\n    <tr>\n      <th>3</th>\n      <td>Vedant</td>\n      <td>87</td>\n      <td>Male</td>\n    </tr>\n    <tr>\n      <th>5</th>\n      <td>Mittal</td>\n      <td>83</td>\n      <td>Female</td>\n    </tr>\n  </tbody>\n</table>\n</div>"
          },
          "metadata": {}
        }
      ],
      "execution_count": 137
    },
    {
      "cell_type": "markdown",
      "source": "### Display name and marks of female students",
      "metadata": {}
    },
    {
      "cell_type": "code",
      "source": "df2",
      "metadata": {
        "trusted": true
      },
      "outputs": [
        {
          "execution_count": 138,
          "output_type": "execute_result",
          "data": {
            "text/plain": "      Name  Marks  Gender\n0  Priyang     98    Male\n1   Aadhya     89  Female\n2   Krisha     99  Female\n3   Vedant     87    Male\n4   Parshv     90    Male\n5   Mittal     83  Female\n6  Archana     99  Female",
            "text/html": "<div>\n<style scoped>\n    .dataframe tbody tr th:only-of-type {\n        vertical-align: middle;\n    }\n\n    .dataframe tbody tr th {\n        vertical-align: top;\n    }\n\n    .dataframe thead th {\n        text-align: right;\n    }\n</style>\n<table border=\"1\" class=\"dataframe\">\n  <thead>\n    <tr style=\"text-align: right;\">\n      <th></th>\n      <th>Name</th>\n      <th>Marks</th>\n      <th>Gender</th>\n    </tr>\n  </thead>\n  <tbody>\n    <tr>\n      <th>0</th>\n      <td>Priyang</td>\n      <td>98</td>\n      <td>Male</td>\n    </tr>\n    <tr>\n      <th>1</th>\n      <td>Aadhya</td>\n      <td>89</td>\n      <td>Female</td>\n    </tr>\n    <tr>\n      <th>2</th>\n      <td>Krisha</td>\n      <td>99</td>\n      <td>Female</td>\n    </tr>\n    <tr>\n      <th>3</th>\n      <td>Vedant</td>\n      <td>87</td>\n      <td>Male</td>\n    </tr>\n    <tr>\n      <th>4</th>\n      <td>Parshv</td>\n      <td>90</td>\n      <td>Male</td>\n    </tr>\n    <tr>\n      <th>5</th>\n      <td>Mittal</td>\n      <td>83</td>\n      <td>Female</td>\n    </tr>\n    <tr>\n      <th>6</th>\n      <td>Archana</td>\n      <td>99</td>\n      <td>Female</td>\n    </tr>\n  </tbody>\n</table>\n</div>"
          },
          "metadata": {}
        }
      ],
      "execution_count": 138
    },
    {
      "cell_type": "code",
      "source": "df2[df2['Gender']=='Female'].drop('Gender', axis=1)",
      "metadata": {
        "trusted": true
      },
      "outputs": [
        {
          "execution_count": 139,
          "output_type": "execute_result",
          "data": {
            "text/plain": "      Name  Marks\n1   Aadhya     89\n2   Krisha     99\n5   Mittal     83\n6  Archana     99",
            "text/html": "<div>\n<style scoped>\n    .dataframe tbody tr th:only-of-type {\n        vertical-align: middle;\n    }\n\n    .dataframe tbody tr th {\n        vertical-align: top;\n    }\n\n    .dataframe thead th {\n        text-align: right;\n    }\n</style>\n<table border=\"1\" class=\"dataframe\">\n  <thead>\n    <tr style=\"text-align: right;\">\n      <th></th>\n      <th>Name</th>\n      <th>Marks</th>\n    </tr>\n  </thead>\n  <tbody>\n    <tr>\n      <th>1</th>\n      <td>Aadhya</td>\n      <td>89</td>\n    </tr>\n    <tr>\n      <th>2</th>\n      <td>Krisha</td>\n      <td>99</td>\n    </tr>\n    <tr>\n      <th>5</th>\n      <td>Mittal</td>\n      <td>83</td>\n    </tr>\n    <tr>\n      <th>6</th>\n      <td>Archana</td>\n      <td>99</td>\n    </tr>\n  </tbody>\n</table>\n</div>"
          },
          "metadata": {}
        }
      ],
      "execution_count": 139
    },
    {
      "cell_type": "code",
      "source": "",
      "metadata": {
        "trusted": true
      },
      "outputs": [],
      "execution_count": null
    }
  ]
}